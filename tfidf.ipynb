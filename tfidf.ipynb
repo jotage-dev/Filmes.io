{
 "cells": [
  {
   "cell_type": "code",
   "execution_count": null,
   "metadata": {},
   "outputs": [
    {
     "name": "stdout",
     "output_type": "stream",
     "text": [
      "Recomendações para 'Harry Potter e o Prisioneiro de Azkaban':\n",
      "- Harry Potter e a Ordem da Fênix\n",
      "- Harry Potter e o Cálice de Fogo\n",
      "- Harry Potter e as Relíquias da Morte: Parte 1\n",
      "- Harry Potter e a Pedra Filosofal\n",
      "- A Chegada\n"
     ]
    }
   ],
   "source": [
    "import pandas as pd\n",
    "from sklearn.feature_extraction.text import TfidfVectorizer\n",
    "from sklearn.metrics.pairwise import cosine_similarity\n",
    "\n",
    "file_path = 'C:\\Escola\\Pasta1.csv'  \n",
    "data = pd.read_csv(file_path, encoding='latin1')\n",
    "\n",
    "\n",
    "data.fillna('', inplace=True)\n",
    "data['combined_features'] = (\n",
    "    data[' Diretor'] + ' ' +\n",
    "    data[' AtorPrinc1'] + ' ' +\n",
    "    data[' AtorPrinc2'] + ' ' +\n",
    "    data[' Genero1'] + ' ' +\n",
    "    data[' Genero2'] + ' ' +\n",
    "    data[' FaixaEt']\n",
    ")\n",
    "\n",
    "\n",
    "tfidf_vectorizer = TfidfVectorizer(stop_words='english')\n",
    "tfidf_matrix = tfidf_vectorizer.fit_transform(data['combined_features'])\n",
    "\n",
    "\n",
    "cosine_sim = cosine_similarity(tfidf_matrix, tfidf_matrix)\n",
    "\n",
    "def recommend_movies(title, cosine_sim=cosine_sim, data=data, top_n=5):\n",
    "   \n",
    "    indices = pd.Series(data.index, index=data['Filme']).drop_duplicates()\n",
    "    idx = indices.get(title, None)\n",
    "    \n",
    "    if idx is None:\n",
    "        return f\"Filme '{title}' não encontrado no dataset.\"\n",
    "\n",
    "   \n",
    "    sim_scores = list(enumerate(cosine_sim[idx]))\n",
    "    sim_scores = sorted(sim_scores, key=lambda x: x[1], reverse=True)\n",
    "    \n",
    "    \n",
    "    sim_scores = sim_scores[1:top_n + 1]\n",
    "    movie_indices = [i[0] for i in sim_scores]\n",
    "    \n",
    "    return data['Filme'].iloc[movie_indices].tolist()\n",
    "\n",
    "\n",
    "#exemplo  de aplicação\n",
    "\n",
    "example_movie = \"Harry Potter e o Prisioneiro de Azkaban\"  \n",
    "recommendations = recommend_movies(example_movie)\n",
    "print(f\"Recomendações para '{example_movie}':\")\n",
    "for rec in recommendations:\n",
    "    print(f\"- {rec}\")"
   ]
  }
 ],
 "metadata": {
  "kernelspec": {
   "display_name": "Python 3",
   "language": "python",
   "name": "python3"
  },
  "language_info": {
   "codemirror_mode": {
    "name": "ipython",
    "version": 3
   },
   "file_extension": ".py",
   "mimetype": "text/x-python",
   "name": "python",
   "nbconvert_exporter": "python",
   "pygments_lexer": "ipython3",
   "version": "3.10.0"
  }
 },
 "nbformat": 4,
 "nbformat_minor": 2
}
